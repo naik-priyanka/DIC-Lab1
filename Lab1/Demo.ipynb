{
 "cells": [
  {
   "cell_type": "code",
   "execution_count": 5,
   "metadata": {},
   "outputs": [
    {
     "data": {
      "text/html": [
       "'not evenly divisible by 5'"
      ],
      "text/latex": [
       "'not evenly divisible by 5'"
      ],
      "text/markdown": [
       "'not evenly divisible by 5'"
      ],
      "text/plain": [
       "[1] \"not evenly divisible by 5\""
      ]
     },
     "metadata": {},
     "output_type": "display_data"
    }
   ],
   "source": [
    "a<-42\n",
    "b<-a%%5\n",
    "if(b==0) \"a divisible by 5\" else \"not evenly divisible by 5\""
   ]
  },
  {
   "cell_type": "code",
   "execution_count": 7,
   "metadata": {
    "scrolled": true
   },
   "outputs": [
    {
     "data": {
      "text/html": [
       "<ol class=list-inline>\n",
       "\t<li>6</li>\n",
       "\t<li>8</li>\n",
       "\t<li>4</li>\n",
       "\t<li>5</li>\n",
       "\t<li>78</li>\n",
       "</ol>\n"
      ],
      "text/latex": [
       "\\begin{enumerate*}\n",
       "\\item 6\n",
       "\\item 8\n",
       "\\item 4\n",
       "\\item 5\n",
       "\\item 78\n",
       "\\end{enumerate*}\n"
      ],
      "text/markdown": [
       "1. 6\n",
       "2. 8\n",
       "3. 4\n",
       "4. 5\n",
       "5. 78\n",
       "\n",
       "\n"
      ],
      "text/plain": [
       "[1]  6  8  4  5 78"
      ]
     },
     "metadata": {},
     "output_type": "display_data"
    }
   ],
   "source": [
    "p<- c(6, 8, 4, 5, 78)\n",
    "p"
   ]
  },
  {
   "cell_type": "code",
   "execution_count": 20,
   "metadata": {},
   "outputs": [
    {
     "data": {
      "text/html": [
       "<ol class=list-inline>\n",
       "\t<li>5.6</li>\n",
       "\t<li>4.5</li>\n",
       "\t<li>7.8</li>\n",
       "\t<li>9.3</li>\n",
       "</ol>\n"
      ],
      "text/latex": [
       "\\begin{enumerate*}\n",
       "\\item 5.6\n",
       "\\item 4.5\n",
       "\\item 7.8\n",
       "\\item 9.3\n",
       "\\end{enumerate*}\n"
      ],
      "text/markdown": [
       "1. 5.6\n",
       "2. 4.5\n",
       "3. 7.8\n",
       "4. 9.3\n",
       "\n",
       "\n"
      ],
      "text/plain": [
       "[1] 5.6 4.5 7.8 9.3"
      ]
     },
     "metadata": {},
     "output_type": "display_data"
    }
   ],
   "source": [
    "q<- c(5.6, 4.5, 7.8, 9.3)\n",
    "q"
   ]
  },
  {
   "cell_type": "code",
   "execution_count": 12,
   "metadata": {},
   "outputs": [
    {
     "data": {
      "text/html": [
       "<ol>\n",
       "\t<li><ol class=list-inline>\n",
       "\t<li>6</li>\n",
       "\t<li>8</li>\n",
       "\t<li>4</li>\n",
       "\t<li>5</li>\n",
       "\t<li>78</li>\n",
       "</ol>\n",
       "</li>\n",
       "\t<li><ol class=list-inline>\n",
       "\t<li>5.6</li>\n",
       "\t<li>4.5</li>\n",
       "\t<li>7.8</li>\n",
       "\t<li>9.3</li>\n",
       "</ol>\n",
       "</li>\n",
       "\t<li>'this demo'</li>\n",
       "</ol>\n"
      ],
      "text/latex": [
       "\\begin{enumerate}\n",
       "\\item \\begin{enumerate*}\n",
       "\\item 6\n",
       "\\item 8\n",
       "\\item 4\n",
       "\\item 5\n",
       "\\item 78\n",
       "\\end{enumerate*}\n",
       "\n",
       "\\item \\begin{enumerate*}\n",
       "\\item 5.6\n",
       "\\item 4.5\n",
       "\\item 7.8\n",
       "\\item 9.3\n",
       "\\end{enumerate*}\n",
       "\n",
       "\\item 'this demo'\n",
       "\\end{enumerate}\n"
      ],
      "text/markdown": [
       "1. 1. 6\n",
       "2. 8\n",
       "3. 4\n",
       "4. 5\n",
       "5. 78\n",
       "\n",
       "\n",
       "\n",
       "2. 1. 5.6\n",
       "2. 4.5\n",
       "3. 7.8\n",
       "4. 9.3\n",
       "\n",
       "\n",
       "\n",
       "3. 'this demo'\n",
       "\n",
       "\n"
      ],
      "text/plain": [
       "[[1]]\n",
       "[1]  6  8  4  5 78\n",
       "\n",
       "[[2]]\n",
       "[1] 5.6 4.5 7.8 9.3\n",
       "\n",
       "[[3]]\n",
       "[1] \"this demo\"\n"
      ]
     },
     "metadata": {},
     "output_type": "display_data"
    }
   ],
   "source": [
    "r<- list(p, q, \"this demo\")\n",
    "r"
   ]
  },
  {
   "cell_type": "code",
   "execution_count": 13,
   "metadata": {},
   "outputs": [
    {
     "data": {
      "text/html": [
       "<ol class=list-inline>\n",
       "\t<li>1</li>\n",
       "\t<li>2</li>\n",
       "\t<li>3</li>\n",
       "</ol>\n"
      ],
      "text/latex": [
       "\\begin{enumerate*}\n",
       "\\item 1\n",
       "\\item 2\n",
       "\\item 3\n",
       "\\end{enumerate*}\n"
      ],
      "text/markdown": [
       "1. 1\n",
       "2. 2\n",
       "3. 3\n",
       "\n",
       "\n"
      ],
      "text/plain": [
       "[1] 1 2 3"
      ]
     },
     "metadata": {},
     "output_type": "display_data"
    }
   ],
   "source": [
    "v <- c(1,2,3)\n",
    "v"
   ]
  },
  {
   "cell_type": "code",
   "execution_count": 14,
   "metadata": {},
   "outputs": [
    {
     "data": {
      "text/html": [
       "<ol class=list-inline>\n",
       "\t<li>1</li>\n",
       "\t<li>2</li>\n",
       "\t<li>3</li>\n",
       "\t<li>&lt;NA&gt;</li>\n",
       "</ol>\n"
      ],
      "text/latex": [
       "\\begin{enumerate*}\n",
       "\\item 1\n",
       "\\item 2\n",
       "\\item 3\n",
       "\\item <NA>\n",
       "\\end{enumerate*}\n"
      ],
      "text/markdown": [
       "1. 1\n",
       "2. 2\n",
       "3. 3\n",
       "4. &lt;NA&gt;\n",
       "\n",
       "\n"
      ],
      "text/plain": [
       "[1]  1  2  3 NA"
      ]
     },
     "metadata": {},
     "output_type": "display_data"
    }
   ],
   "source": [
    "length(v) <- 4\n",
    "v"
   ]
  },
  {
   "cell_type": "code",
   "execution_count": 15,
   "metadata": {},
   "outputs": [
    {
     "data": {
      "text/html": [
       "Inf"
      ],
      "text/latex": [
       "Inf"
      ],
      "text/markdown": [
       "Inf"
      ],
      "text/plain": [
       "[1] Inf"
      ]
     },
     "metadata": {},
     "output_type": "display_data"
    }
   ],
   "source": [
    "2^1024"
   ]
  },
  {
   "cell_type": "code",
   "execution_count": 16,
   "metadata": {},
   "outputs": [
    {
     "data": {
      "text/html": [
       "-Inf"
      ],
      "text/latex": [
       "-Inf"
      ],
      "text/markdown": [
       "-Inf"
      ],
      "text/plain": [
       "[1] -Inf"
      ]
     },
     "metadata": {},
     "output_type": "display_data"
    }
   ],
   "source": [
    "-2^1024"
   ]
  },
  {
   "cell_type": "code",
   "execution_count": 17,
   "metadata": {},
   "outputs": [
    {
     "data": {
      "text/html": [
       "3"
      ],
      "text/latex": [
       "3"
      ],
      "text/markdown": [
       "3"
      ],
      "text/plain": [
       "[1] 3"
      ]
     },
     "metadata": {},
     "output_type": "display_data"
    }
   ],
   "source": [
    "f <- function() {\n",
    "    x <- 1; \n",
    "    y <- 2; \n",
    "    x + y\n",
    "}\n",
    "f()"
   ]
  },
  {
   "cell_type": "code",
   "execution_count": 18,
   "metadata": {},
   "outputs": [
    {
     "name": "stdout",
     "output_type": "stream",
     "text": [
      "[1] 4\n",
      "[1] 9\n",
      "[1] 14\n",
      "[1] 19\n",
      "[1] 24\n"
     ]
    }
   ],
   "source": [
    "i<-4\n",
    "repeat {\n",
    "    if (i > 25) \n",
    "        break \n",
    "    else {\n",
    "        print(i); \n",
    "        i <- i + 5;\n",
    "    }\n",
    "}"
   ]
  },
  {
   "cell_type": "code",
   "execution_count": 19,
   "metadata": {},
   "outputs": [
    {
     "data": {
      "text/html": [
       "<ol class=list-inline>\n",
       "\t<li>Disagree</li>\n",
       "\t<li>Neutral</li>\n",
       "\t<li>Strongly Disagree</li>\n",
       "\t<li>Neutral</li>\n",
       "\t<li>Agree</li>\n",
       "\t<li>Strongly Agree</li>\n",
       "\t<li>Disagree</li>\n",
       "\t<li>Strongly Agree</li>\n",
       "\t<li>Neutral</li>\n",
       "\t<li>Strongly Disagree</li>\n",
       "\t<li>Neutral</li>\n",
       "\t<li>Agree</li>\n",
       "</ol>\n"
      ],
      "text/latex": [
       "\\begin{enumerate*}\n",
       "\\item Disagree\n",
       "\\item Neutral\n",
       "\\item Strongly Disagree\n",
       "\\item Neutral\n",
       "\\item Agree\n",
       "\\item Strongly Agree\n",
       "\\item Disagree\n",
       "\\item Strongly Agree\n",
       "\\item Neutral\n",
       "\\item Strongly Disagree\n",
       "\\item Neutral\n",
       "\\item Agree\n",
       "\\end{enumerate*}\n"
      ],
      "text/markdown": [
       "1. Disagree\n",
       "2. Neutral\n",
       "3. Strongly Disagree\n",
       "4. Neutral\n",
       "5. Agree\n",
       "6. Strongly Agree\n",
       "7. Disagree\n",
       "8. Strongly Agree\n",
       "9. Neutral\n",
       "10. Strongly Disagree\n",
       "11. Neutral\n",
       "12. Agree\n",
       "\n",
       "\n"
      ],
      "text/plain": [
       " [1] Disagree          Neutral           Strongly Disagree Neutral          \n",
       " [5] Agree             Strongly Agree    Disagree          Strongly Agree   \n",
       " [9] Neutral           Strongly Disagree Neutral           Agree            \n",
       "5 Levels: Strongly Disagree < Disagree < Neutral < ... < Strongly Agree"
      ]
     },
     "metadata": {},
     "output_type": "display_data"
    }
   ],
   "source": [
    "survey.results <- factor( c(\"Disagree\", \"Neutral\", \"Strongly Disagree\", \"Neutral\", \"Agree\", \"Strongly Agree\",\"Disagree\", \"Strongly Agree\", \"Neutral\",\"Strongly Disagree\", \"Neutral\", \"Agree\"),levels=c(\"Strongly Disagree\", \"Disagree\", \"Neutral\", \"Agree\", \"Strongly Agree\"),ordered=TRUE)\n",
    "survey.results"
   ]
  }
 ],
 "metadata": {
  "kernelspec": {
   "display_name": "R",
   "language": "R",
   "name": "ir"
  },
  "language_info": {
   "codemirror_mode": "r",
   "file_extension": ".r",
   "mimetype": "text/x-r-source",
   "name": "R",
   "pygments_lexer": "r",
   "version": "3.4.3"
  }
 },
 "nbformat": 4,
 "nbformat_minor": 2
}
